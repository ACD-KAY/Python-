{
 "cells": [
  {
   "cell_type": "code",
   "execution_count": 1,
   "metadata": {},
   "outputs": [],
   "source": [
    "\n",
    "import pandas as pd\n",
    "import numpy as np\n",
    "import matplotlib.pyplot as plt\n",
    "dataset = pd.read_excel('D:/Task/MathModel/CUMCM-2016C-Chinese/CUMCM2016.xlsx')\n",
    "\n"
   ]
  },
  {
   "cell_type": "code",
   "execution_count": 2,
   "metadata": {},
   "outputs": [
    {
     "data": {
      "text/html": [
       "<div>\n",
       "<style scoped>\n",
       "    .dataframe tbody tr th:only-of-type {\n",
       "        vertical-align: middle;\n",
       "    }\n",
       "\n",
       "    .dataframe tbody tr th {\n",
       "        vertical-align: top;\n",
       "    }\n",
       "\n",
       "    .dataframe thead th {\n",
       "        text-align: right;\n",
       "    }\n",
       "</style>\n",
       "<table border=\"1\" class=\"dataframe\">\n",
       "  <thead>\n",
       "    <tr style=\"text-align: right;\">\n",
       "      <th></th>\n",
       "      <th>Dischargetime</th>\n",
       "      <th>20A</th>\n",
       "      <th>30A</th>\n",
       "      <th>40A</th>\n",
       "      <th>50A</th>\n",
       "      <th>60A</th>\n",
       "      <th>70A</th>\n",
       "      <th>80A</th>\n",
       "      <th>90A</th>\n",
       "      <th>100A</th>\n",
       "    </tr>\n",
       "  </thead>\n",
       "  <tbody>\n",
       "    <tr>\n",
       "      <th>0</th>\n",
       "      <td>0</td>\n",
       "      <td>11.1781</td>\n",
       "      <td>11.0514</td>\n",
       "      <td>11.0650</td>\n",
       "      <td>11.0821</td>\n",
       "      <td>11.1043</td>\n",
       "      <td>11.1243</td>\n",
       "      <td>11.1536</td>\n",
       "      <td>11.1864</td>\n",
       "      <td>11.2179</td>\n",
       "    </tr>\n",
       "    <tr>\n",
       "      <th>1</th>\n",
       "      <td>0</td>\n",
       "      <td>10.8913</td>\n",
       "      <td>10.7179</td>\n",
       "      <td>10.6421</td>\n",
       "      <td>10.5650</td>\n",
       "      <td>10.5086</td>\n",
       "      <td>10.4257</td>\n",
       "      <td>10.3736</td>\n",
       "      <td>10.3250</td>\n",
       "      <td>10.2750</td>\n",
       "    </tr>\n",
       "    <tr>\n",
       "      <th>2</th>\n",
       "      <td>2</td>\n",
       "      <td>10.7419</td>\n",
       "      <td>10.6171</td>\n",
       "      <td>10.5521</td>\n",
       "      <td>10.4793</td>\n",
       "      <td>10.4221</td>\n",
       "      <td>10.3450</td>\n",
       "      <td>10.2979</td>\n",
       "      <td>10.2529</td>\n",
       "      <td>10.2150</td>\n",
       "    </tr>\n",
       "    <tr>\n",
       "      <th>3</th>\n",
       "      <td>4</td>\n",
       "      <td>10.6288</td>\n",
       "      <td>10.5886</td>\n",
       "      <td>10.5321</td>\n",
       "      <td>10.4657</td>\n",
       "      <td>10.4157</td>\n",
       "      <td>10.3507</td>\n",
       "      <td>10.3143</td>\n",
       "      <td>10.2843</td>\n",
       "      <td>10.2636</td>\n",
       "    </tr>\n",
       "    <tr>\n",
       "      <th>4</th>\n",
       "      <td>6</td>\n",
       "      <td>10.5581</td>\n",
       "      <td>10.5807</td>\n",
       "      <td>10.5300</td>\n",
       "      <td>10.4714</td>\n",
       "      <td>10.4264</td>\n",
       "      <td>10.3707</td>\n",
       "      <td>10.3379</td>\n",
       "      <td>10.3107</td>\n",
       "      <td>10.2857</td>\n",
       "    </tr>\n",
       "  </tbody>\n",
       "</table>\n",
       "</div>"
      ],
      "text/plain": [
       "   Dischargetime      20A      30A      40A      50A      60A      70A  \\\n",
       "0              0  11.1781  11.0514  11.0650  11.0821  11.1043  11.1243   \n",
       "1              0  10.8913  10.7179  10.6421  10.5650  10.5086  10.4257   \n",
       "2              2  10.7419  10.6171  10.5521  10.4793  10.4221  10.3450   \n",
       "3              4  10.6288  10.5886  10.5321  10.4657  10.4157  10.3507   \n",
       "4              6  10.5581  10.5807  10.5300  10.4714  10.4264  10.3707   \n",
       "\n",
       "       80A      90A     100A  \n",
       "0  11.1536  11.1864  11.2179  \n",
       "1  10.3736  10.3250  10.2750  \n",
       "2  10.2979  10.2529  10.2150  \n",
       "3  10.3143  10.2843  10.2636  \n",
       "4  10.3379  10.3107  10.2857  "
      ]
     },
     "execution_count": 2,
     "metadata": {},
     "output_type": "execute_result"
    }
   ],
   "source": [
    "dataset.head()"
   ]
  },
  {
   "cell_type": "code",
   "execution_count": 3,
   "metadata": {},
   "outputs": [
    {
     "data": {
      "text/plain": [
       "Text(0,0.5,'V /v')"
      ]
     },
     "execution_count": 3,
     "metadata": {},
     "output_type": "execute_result"
    },
    {
     "data": {
      "image/png": "[encoded data removed]",
      "text/plain": [
       "<Figure size 432x288 with 1 Axes>"
      ]
     },
     "metadata": {
      "needs_background": "light"
     },
     "output_type": "display_data"
    }
   ],
   "source": [
    "x = dataset['Dischargetime']\n",
    "y1 = dataset['20A']\n",
    "plt.plot(x,y1)\n",
    "plt.title('20A')\n",
    "plt.xlabel('Dischargetime / min')\n",
    "plt.ylabel('V /v')"
   ]
  },
  {
   "cell_type": "code",
   "execution_count": 4,
   "metadata": {},
   "outputs": [
    {
     "data": {
      "text/plain": [
       "Text(0,0.5,'V /v')"
      ]
     },
     "execution_count": 4,
     "metadata": {},
     "output_type": "execute_result"
    },
    {
     "data": {
      "image/png": "[encoded data removed]",
      "text/plain": [
       "<Figure size 432x288 with 1 Axes>"
      ]
     },
     "metadata": {
      "needs_background": "light"
     },
     "output_type": "display_data"
    }
   ],
   "source": [
    "y2 = dataset['30A']\n",
    "plt.plot(x,y2)\n",
    "plt.title('30A')\n",
    "plt.xlabel('Dischargetime / min')\n",
    "plt.ylabel('V /v')"
   ]
  },
  {
   "cell_type": "code",
   "execution_count": 5,
   "metadata": {},
   "outputs": [
    {
     "data": {
      "text/plain": [
       "Text(0,0.5,'V /v')"
      ]
     },
     "execution_count": 5,
     "metadata": {},
     "output_type": "execute_result"
    },
    {
     "data": {
      "image/png": "[encoded data removed]",
      "text/plain": [
       "<Figure size 432x288 with 1 Axes>"
      ]
     },
     "metadata": {
      "needs_background": "light"
     },
     "output_type": "display_data"
    }
   ],
   "source": [
    "y3 = dataset['100A']\n",
    "plt.plot(x,y3)\n",
    "plt.title('100A')\n",
    "plt.xlabel('Dischargetime / min')\n",
    "plt.ylabel('V /v')"
   ]
  },
  {
   "cell_type": "code",
   "execution_count": null,
   "metadata": {},
   "outputs": [],
   "source": []
  },
  {
   "cell_type": "code",
   "execution_count": null,
   "metadata": {},
   "outputs": [],
   "source": []
  }
 ],
 "metadata": {
  "kernelspec": {
   "display_name": "Python 3",
   "language": "python",
   "name": "python3"
  },
  "language_info": {
   "codemirror_mode": {
    "name": "ipython",
    "version": 3
   },
   "file_extension": ".py",
   "mimetype": "text/x-python",
   "name": "python",
   "nbconvert_exporter": "python",
   "pygments_lexer": "ipython3",
   "version": "3.7.0"
  }
 },
 "nbformat": 4,
 "nbformat_minor": 2
}
