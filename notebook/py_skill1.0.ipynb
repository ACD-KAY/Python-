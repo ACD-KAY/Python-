{
 "cells": [
  {
   "cell_type": "code",
   "execution_count": 2,
   "metadata": {},
   "outputs": [
    {
     "name": "stdout",
     "output_type": "stream",
     "text": [
      "a=5, b=10\n",
      "a=10,b=5\n"
     ]
    }
   ],
   "source": [
    "\n",
    "\n",
    "a,b = 5,10\n",
    "print('a={}, b={}'.format(a,b))\n",
    "a,b=b,a\n",
    "print('a={},b={}'.format(a,b))"
   ]
  },
  {
   "cell_type": "code",
   "execution_count": 3,
   "metadata": {},
   "outputs": [
    {
     "name": "stdout",
     "output_type": "stream",
     "text": [
      "a b c\n"
     ]
    }
   ],
   "source": [
    "a = ['a','b','c']\n",
    "print(\" \".join(a))"
   ]
  },
  {
   "cell_type": "code",
   "execution_count": 9,
   "metadata": {},
   "outputs": [
    {
     "name": "stdout",
     "output_type": "stream",
     "text": [
      "2\n"
     ]
    },
    {
     "data": {
      "text/plain": [
       "[(2, 6)]"
      ]
     },
     "execution_count": 9,
     "metadata": {},
     "output_type": "execute_result"
    }
   ],
   "source": [
    "#查看列表频率最高的值\n",
    "a = [1,2,3,2,1,2,2,2,2,1,23,3]\n",
    "print(max(set(a),key=a.count))\n",
    "\n",
    "from collections import  Counter\n",
    "\n",
    "cnt = Counter(a)\n",
    "\n",
    "cnt.most_common(1)"
   ]
  },
  {
   "cell_type": "code",
   "execution_count": 12,
   "metadata": {},
   "outputs": [
    {
     "name": "stdout",
     "output_type": "stream",
     "text": [
      "[('a', 'c'), ('b', 'd')]\n"
     ]
    }
   ],
   "source": [
    "#二维矩阵转置\n",
    "origin = [['a','b'],['c','d']]\n",
    "transposed = zip(*origin)\n",
    "print(list(transposed))"
   ]
  },
  {
   "cell_type": "code",
   "execution_count": 14,
   "metadata": {},
   "outputs": [
    {
     "name": "stdout",
     "output_type": "stream",
     "text": [
      "35\n"
     ]
    }
   ],
   "source": [
    "#链式函数调用\n",
    "def product(a,b):\n",
    "    return a*b\n",
    "\n",
    "def add(a,b):\n",
    "    return a+b\n",
    "\n",
    "b = True\n",
    "\n",
    "print((product if b else add)(5,7))"
   ]
  },
  {
   "cell_type": "code",
   "execution_count": 17,
   "metadata": {},
   "outputs": [
    {
     "name": "stdout",
     "output_type": "stream",
     "text": [
      "[('B', 3), ('C', 10)]\n"
     ]
    }
   ],
   "source": [
    "d = {'C':10,'B':3}\n",
    "print(sorted(d.items(), key=lambda x : x[0]))"
   ]
  },
  {
   "cell_type": "code",
   "execution_count": 18,
   "metadata": {},
   "outputs": [
    {
     "data": {
      "text/plain": [
       "[1, 2, 5643, 43, 54]"
      ]
     },
     "execution_count": 18,
     "metadata": {},
     "output_type": "execute_result"
    }
   ],
   "source": [
    "item =[1,2,43,54,5643,2,2,2,]\n",
    "s = list(set(item))\n",
    "s"
   ]
  },
  {
   "cell_type": "code",
   "execution_count": 21,
   "metadata": {},
   "outputs": [
    {
     "name": "stdout",
     "output_type": "stream",
     "text": [
      "name=1, color=a\n",
      "name=2, color=b\n",
      "name=3, color=c\n"
     ]
    }
   ],
   "source": [
    "names = [1,2,3]\n",
    "colors = ['a','b','c']\n",
    "for name,color in zip(names,colors):\n",
    "    print('name={}, color={}'.format(name,color))"
   ]
  },
  {
   "cell_type": "code",
   "execution_count": 22,
   "metadata": {},
   "outputs": [
    {
     "name": "stdout",
     "output_type": "stream",
     "text": [
      "key = a, value = 1\n",
      "key = b, value = 2\n"
     ]
    }
   ],
   "source": [
    "d = {'a':1,'b':2}\n",
    "\n",
    "for x in d:\n",
    "    print('key = {}, value = {}'.format(x,d[x]))"
   ]
  },
  {
   "cell_type": "code",
   "execution_count": 31,
   "metadata": {},
   "outputs": [
    {
     "name": "stdout",
     "output_type": "stream",
     "text": [
      "['red', 'blue', 'green', 'yellow']\n"
     ]
    }
   ],
   "source": [
    "colors = ['red','green','blue','yellow']\n",
    "\n",
    "print(sorted(colors, key=len))"
   ]
  },
  {
   "cell_type": "code",
   "execution_count": null,
   "metadata": {},
   "outputs": [],
   "source": []
  }
 ],
 "metadata": {
  "kernelspec": {
   "display_name": "Python 3",
   "language": "python",
   "name": "python3"
  },
  "language_info": {
   "codemirror_mode": {
    "name": "ipython",
    "version": 3
   },
   "file_extension": ".py",
   "mimetype": "text/x-python",
   "name": "python",
   "nbconvert_exporter": "python",
   "pygments_lexer": "ipython3",
   "version": "3.7.0"
  }
 },
 "nbformat": 4,
 "nbformat_minor": 2
}
